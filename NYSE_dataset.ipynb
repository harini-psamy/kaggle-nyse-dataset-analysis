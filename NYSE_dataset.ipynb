{
 "cells": [
  {
   "cell_type": "code",
   "execution_count": 1,
   "metadata": {},
   "outputs": [
    {
     "data": {
      "text/plain": [
       "'\\nProblem definitions:\\nOne day ahead prediction: Rolling Linear Regression, ARIMA, Neural Networks, LSTM\\nMomentum/Mean-Reversion Strategies\\nSecurity clustering, portfolio construction/hedging\\nWhich company has biggest chance of being bankrupt? Which one is undervalued (how prices behaved afterwards), what is Return on Investment?\\n\\n'"
      ]
     },
     "execution_count": 1,
     "metadata": {},
     "output_type": "execute_result"
    }
   ],
   "source": [
    "'''\n",
    "Problem definitions:\n",
    "One day ahead prediction: Rolling Linear Regression, ARIMA, Neural Networks, LSTM\n",
    "Momentum/Mean-Reversion Strategies\n",
    "Security clustering, portfolio construction/hedging\n",
    "Which company has biggest chance of being bankrupt? Which one is undervalued (how prices behaved afterwards), what is Return on Investment?\n",
    "\n",
    "'''"
   ]
  },
  {
   "cell_type": "markdown",
   "metadata": {},
   "source": [
    "## 1) applying statistical concepts to dataset"
   ]
  },
  {
   "cell_type": "code",
   "execution_count": 195,
   "metadata": {},
   "outputs": [],
   "source": [
    "# read data\n",
    "import pandas as pd\n",
    "import numpy as np\n",
    "from sklearn import preprocessing\n",
    "from sklearn.model_selection import cross_validate\n",
    "from sklearn.model_selection import train_test_split\n",
    "from sklearn import linear_model\n",
    "import statsmodels.api as sm\n",
    "from sklearn.model_selection import TimeSeriesSplit\n",
    "from datetime import datetime\n",
    "from statsmodels.tsa.arima_model import ARIMA\n",
    "import matplotlib.pyplot as pyplot\n",
    "from pandas.plotting import autocorrelation_plot\n",
    "\n",
    "price = pd.read_csv('prices-split-adjusted.csv')\n",
    "price = price.set_index('symbol')"
   ]
  },
  {
   "cell_type": "code",
   "execution_count": 169,
   "metadata": {},
   "outputs": [
    {
     "name": "stderr",
     "output_type": "stream",
     "text": [
      "C:\\Users\\Harin\\.conda\\envs\\kaggle_nyse_dataset_analysis\\lib\\site-packages\\numpy\\core\\fromnumeric.py:2495: FutureWarning: Method .ptp is deprecated and will be removed in a future version. Use numpy.ptp instead.\n",
      "  return ptp(axis=axis, out=out, **kwargs)\n"
     ]
    }
   ],
   "source": [
    "# prediction in-sample prices using linear regression method 1 : statsmodels library\n",
    "\n",
    "df = price.loc[['CI']]\n",
    "df = df.set_index(keys='date',drop = True)\n",
    "X = df.drop('close',axis = 'columns')\n",
    "y = df[['close']]\n",
    "X = sm.add_constant(X)\n",
    "\n",
    "\n",
    "def linear_regression_insample_statsmodels(X,y):\n",
    "  \n",
    "\n",
    "    model = sm.OLS(y,X).fit()\n",
    "    predictions = model.predict(X)\n",
    "\n",
    "    print_model = model.summary()\n",
    "    print(print_model)\n",
    "    \n",
    "    return predictions, model.summary()"
   ]
  },
  {
   "cell_type": "code",
   "execution_count": 95,
   "metadata": {},
   "outputs": [],
   "source": [
    "# forecasting using linear regression \n",
    "\n",
    "def Linear_reg_outofsample_statsmodels(X,y):\n",
    "\n",
    "    \n",
    "    X.index = pd.to_datetime(X.index)\n",
    "    y.index = pd.to_datetime(y.index)\n",
    "    tscv = TimeSeriesSplit(n_splits = 2)\n",
    "\n",
    "\n",
    "    for train_index, test_index in tscv.split(X.values):\n",
    "\n",
    "        X_train, X_test = X.iloc[train_index], X.iloc[test_index]\n",
    "        y_train, y_test = y.iloc[train_index], y.iloc[test_index]\n",
    "\n",
    "    X_test.merge(pd.DataFrame(model.predict(X_test),index = X_test.index), on = 'date')\n",
    "    \n",
    "        \n",
    "    return model.predict(X_test), model.summary()"
   ]
  },
  {
   "cell_type": "code",
   "execution_count": 110,
   "metadata": {
    "scrolled": true
   },
   "outputs": [],
   "source": [
    "# prediction in-sample prices using rolling linear regression method 2 : statsmodel \n",
    "def rolling_linear_regression(X,y):\n",
    "    \n",
    "    model = sm.OLS(y, X, window_type='rolling', window=100).fit()\n",
    "    \n",
    "    return model.predict model.summary()"
   ]
  },
  {
   "cell_type": "code",
   "execution_count": 176,
   "metadata": {},
   "outputs": [],
   "source": [
    "# prediction out of sample prices using linear regression method 2 : sci-kit library\n",
    "\n",
    "def sklearn_outofsample_sklearn(X,y):\n",
    "\n",
    "    \n",
    "    forecast_size = 10\n",
    "    test_size = 0.2\n",
    "    #X_train, X_test, Y_train, Y_test , X_lately =prepare_data(df,forecast_col,forecast_out,test_size)\n",
    "    y = df[['close']]\n",
    "    y = y.shift(-forecast_size)\n",
    "    \n",
    "    X = preprocessing.scale(X) #processing the feature array\n",
    "    X_ = X[-forecast_size:]\n",
    "    X = X[:-forecast_size]\n",
    "    y = y.dropna()\n",
    "    X_train, X_test, y_train, y_test = train_test_split(np.array(X), y, test_size=test_size) #cross validation \n",
    "\n",
    "    \n",
    "    \n",
    "    learner = linear_model.LinearRegression(); #initializing linear regression model\n",
    "\n",
    "    learner.fit(X_train,y_train); #training the linear regression model\n",
    "    score=learner.score(X_test,y_test);#testing the linear regression model\n",
    "\n",
    "    forecast= learner.predict(X_); #set that will contain the forecasted data\n",
    "\n"
   ]
  },
  {
   "cell_type": "code",
   "execution_count": null,
   "metadata": {},
   "outputs": [],
   "source": [
    "# summary statistic to compare different results"
   ]
  },
  {
   "cell_type": "code",
   "execution_count": 189,
   "metadata": {},
   "outputs": [
    {
     "data": {
      "text/plain": [
       "<matplotlib.axes._subplots.AxesSubplot at 0x223cd3c8438>"
      ]
     },
     "execution_count": 189,
     "metadata": {},
     "output_type": "execute_result"
    },
    {
     "data": {
      "image/png": "[encoded data removed]",
      "text/plain": [
       "<Figure size 432x288 with 1 Axes>"
      ]
     },
     "metadata": {
      "needs_background": "light"
     },
     "output_type": "display_data"
    }
   ],
   "source": [
    "autocorrelation_plot(df) #result shows positive correlation for lags in 100s"
   ]
  },
  {
   "cell_type": "code",
   "execution_count": 201,
   "metadata": {},
   "outputs": [
    {
     "name": "stderr",
     "output_type": "stream",
     "text": [
      "C:\\Users\\Harin\\.conda\\envs\\kaggle_nyse_dataset_analysis\\lib\\site-packages\\statsmodels\\tsa\\base\\tsa_model.py:219: ValueWarning: A date index has been provided, but it has no associated frequency information and so will be ignored when e.g. forecasting.\n",
      "  ' ignored when e.g. forecasting.', ValueWarning)\n",
      "C:\\Users\\Harin\\.conda\\envs\\kaggle_nyse_dataset_analysis\\lib\\site-packages\\statsmodels\\tsa\\base\\tsa_model.py:219: ValueWarning: A date index has been provided, but it has no associated frequency information and so will be ignored when e.g. forecasting.\n",
      "  ' ignored when e.g. forecasting.', ValueWarning)\n"
     ]
    },
    {
     "name": "stdout",
     "output_type": "stream",
     "text": [
      "                             ARIMA Model Results                              \n",
      "==============================================================================\n",
      "Dep. Variable:                D.close   No. Observations:                 1751\n",
      "Model:                 ARIMA(5, 1, 0)   Log Likelihood               -3118.062\n",
      "Method:                       css-mle   S.D. of innovations              1.436\n",
      "Date:                Thu, 03 Oct 2019   AIC                           6250.124\n",
      "Time:                        10:39:38   BIC                           6288.400\n",
      "Sample:                             1   HQIC                          6264.273\n",
      "                                                                              \n",
      "=================================================================================\n",
      "                    coef    std err          z      P>|z|      [0.025      0.975]\n",
      "---------------------------------------------------------------------------------\n",
      "const             0.0548      0.031      1.749      0.080      -0.007       0.116\n",
      "ar.L1.D.close    -0.0145      0.024     -0.609      0.543      -0.061       0.032\n",
      "ar.L2.D.close    -0.0258      0.024     -1.078      0.281      -0.073       0.021\n",
      "ar.L3.D.close    -0.0103      0.024     -0.429      0.668      -0.057       0.037\n",
      "ar.L4.D.close    -0.0158      0.024     -0.659      0.510      -0.063       0.031\n",
      "ar.L5.D.close    -0.0286      0.024     -1.196      0.232      -0.076       0.018\n",
      "                                    Roots                                    \n",
      "=============================================================================\n",
      "                  Real          Imaginary           Modulus         Frequency\n",
      "-----------------------------------------------------------------------------\n",
      "AR.1            1.5072           -1.2536j            1.9604           -0.1104\n",
      "AR.2            1.5072           +1.2536j            1.9604            0.1104\n",
      "AR.3           -0.7061           -1.9298j            2.0549           -0.3058\n",
      "AR.4           -0.7061           +1.9298j            2.0549            0.3058\n",
      "AR.5           -2.1532           -0.0000j            2.1532           -0.5000\n",
      "-----------------------------------------------------------------------------\n"
     ]
    },
    {
     "data": {
      "image/png": "[encoded data removed]",
      "text/plain": [
       "<Figure size 432x288 with 1 Axes>"
      ]
     },
     "metadata": {
      "needs_background": "light"
     },
     "output_type": "display_data"
    },
    {
     "data": {
      "image/png": "[encoded data removed]",
      "text/plain": [
       "<Figure size 432x288 with 1 Axes>"
      ]
     },
     "metadata": {
      "needs_background": "light"
     },
     "output_type": "display_data"
    },
    {
     "name": "stdout",
     "output_type": "stream",
     "text": [
      "                 0\n",
      "count  1751.000000\n",
      "mean     -0.000098\n",
      "std       1.436311\n",
      "min      -8.707427\n",
      "25%      -0.572873\n",
      "50%      -0.011616\n",
      "75%       0.595553\n",
      "max      16.004610\n"
     ]
    }
   ],
   "source": [
    "#ARIMA\n",
    "#GARCH\n",
    "\n",
    "model = ARIMA(y, order=(5,1,0))\n",
    "#model_fit = model.fit(disp=0)\n",
    "print(model_fit.summary())\n",
    "# plot residual errors\n",
    "residuals = pd.DataFrame(model_fit.resid)\n",
    "residuals.plot()\n",
    "#pyplot.show()\n",
    "residuals.plot(kind='kde')\n",
    "pyplot.show()\n",
    "print(residuals.describe())\n",
    "%matplotlib inline\n",
    "\n",
    "\n",
    "# issues with the model - 5,1,0 is arbitrary. it might not work for all stocks. should find if there's a way to automate it. \n",
    "# I shd first start with determining values of p, d and q. "
   ]
  },
  {
   "cell_type": "code",
   "execution_count": 172,
   "metadata": {},
   "outputs": [],
   "source": []
  },
  {
   "cell_type": "code",
   "execution_count": null,
   "metadata": {},
   "outputs": [],
   "source": []
  },
  {
   "cell_type": "code",
   "execution_count": 175,
   "metadata": {},
   "outputs": [
    {
     "data": {
      "text/plain": [
       "0.9886226479904363"
      ]
     },
     "execution_count": 175,
     "metadata": {},
     "output_type": "execute_result"
    }
   ],
   "source": [
    "score"
   ]
  },
  {
   "cell_type": "code",
   "execution_count": null,
   "metadata": {},
   "outputs": [],
   "source": []
  }
 ],
 "metadata": {
  "kernelspec": {
   "display_name": "Python 3",
   "language": "python",
   "name": "python3"
  },
  "language_info": {
   "codemirror_mode": {
    "name": "ipython",
    "version": 3
   },
   "file_extension": ".py",
   "mimetype": "text/x-python",
   "name": "python",
   "nbconvert_exporter": "python",
   "pygments_lexer": "ipython3",
   "version": "3.6.7"
  }
 },
 "nbformat": 4,
 "nbformat_minor": 2
}
