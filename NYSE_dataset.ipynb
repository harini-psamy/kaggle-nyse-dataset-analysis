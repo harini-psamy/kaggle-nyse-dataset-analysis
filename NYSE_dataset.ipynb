{
 "cells": [
  {
   "cell_type": "code",
   "execution_count": 1,
   "metadata": {},
   "outputs": [
    {
     "data": {
      "text/plain": [
       "'\\nProblem definitions:\\nOne day ahead prediction: Rolling Linear Regression, ARIMA, Neural Networks, LSTM\\nMomentum/Mean-Reversion Strategies\\nSecurity clustering, portfolio construction/hedging\\nWhich company has biggest chance of being bankrupt? Which one is undervalued (how prices behaved afterwards), what is Return on Investment?\\n\\n'"
      ]
     },
     "execution_count": 1,
     "metadata": {},
     "output_type": "execute_result"
    }
   ],
   "source": [
    "'''\n",
    "Problem definitions:\n",
    "One day ahead prediction: Rolling Linear Regression, ARIMA, Neural Networks, LSTM\n",
    "Momentum/Mean-Reversion Strategies\n",
    "Security clustering, portfolio construction/hedging\n",
    "Which company has biggest chance of being bankrupt? Which one is undervalued (how prices behaved afterwards), what is Return on Investment?\n",
    "\n",
    "'''"
   ]
  },
  {
   "cell_type": "markdown",
   "metadata": {},
   "source": [
    "## 1) applying statistical concepts to dataset"
   ]
  },
  {
   "cell_type": "code",
   "execution_count": 5,
   "metadata": {},
   "outputs": [],
   "source": [
    "# read data\n",
    "import pandas as pd\n",
    "import numpy as np\n",
    "\n",
    "price = pd.read_csv('prices-split-adjusted.csv')\n",
    "price = price.set_index('symbol')"
   ]
  },
  {
   "cell_type": "code",
   "execution_count": 118,
   "metadata": {},
   "outputs": [],
   "source": [
    "# prediction in-sample prices using linear regression method 1 : statsmodels library\n",
    "\n",
    "\n",
    "\n",
    "df = price.loc[['CI']]\n",
    "df = df.set_index(keys='date',drop = True)\n",
    "X = df.drop('close',axis = 'columns')\n",
    "y = df[['close']]\n",
    "X = sm.add_constant(X)\n",
    "\n",
    "\n",
    "def linear_regression_insample_statsmodels(X,y):\n",
    "    import statsmodels.api as sm\n",
    "\n",
    "    model = sm.OLS(y,X).fit()\n",
    "    predictions = model.predict(X)\n",
    "\n",
    "    print_model = model.summary()\n",
    "    print(print_model)\n",
    "    \n",
    "    return predictions, model.summary()"
   ]
  },
  {
   "cell_type": "code",
   "execution_count": 95,
   "metadata": {},
   "outputs": [],
   "source": [
    "# forecasting using linear regression \n",
    "\n",
    "def Linear_reg_outofsample_statsmodels(X,y):\n",
    "\n",
    "    from sklearn.model_selection import TimeSeriesSplit\n",
    "    from datetime import datetime\n",
    "\n",
    "    X.index = pd.to_datetime(X.index)\n",
    "    y.index = pd.to_datetime(y.index)\n",
    "    tscv = TimeSeriesSplit(n_splits = 2)\n",
    "\n",
    "\n",
    "    for train_index, test_index in tscv.split(X.values):\n",
    "\n",
    "        X_train, X_test = X.iloc[train_index], X.iloc[test_index]\n",
    "        y_train, y_test = y.iloc[train_index], y.iloc[test_index]\n",
    "\n",
    "    X_test.merge(pd.DataFrame(model.predict(X_test),index = X_test.index), on = 'date')\n",
    "    \n",
    "    \n",
    "    \n",
    "    return model.predict(X_test), model.summary()"
   ]
  },
  {
   "cell_type": "code",
   "execution_count": 110,
   "metadata": {
    "scrolled": true
   },
   "outputs": [],
   "source": [
    "# prediction in-sample prices using rolling linear regression method 2 : statsmodel \n",
    "def rolling_linear_regression(X,y):\n",
    "    import statsmodels.api as sm\n",
    "    model = sm.OLS(y, X, window_type='rolling', window=100).fit()\n",
    "    \n",
    "    return model.predict model.summary()"
   ]
  },
  {
   "cell_type": "code",
   "execution_count": null,
   "metadata": {},
   "outputs": [],
   "source": [
    "# prediction in-sample prices using linear regression method 2 : sci-kit library\n",
    "\n"
   ]
  },
  {
   "cell_type": "code",
   "execution_count": null,
   "metadata": {},
   "outputs": [],
   "source": [
    "# summary statistic to compare different results"
   ]
  },
  {
   "cell_type": "code",
   "execution_count": 122,
   "metadata": {},
   "outputs": [
    {
     "name": "stdout",
     "output_type": "stream",
     "text": [
      "<bound method Results.predict of <statsmodels.regression.linear_model.OLSResults object at 0x00000223C365D048>>\n",
      "                            OLS Regression Results                            \n",
      "==============================================================================\n",
      "Dep. Variable:                  close   R-squared:                       1.000\n",
      "Model:                            OLS   Adj. R-squared:                  1.000\n",
      "Method:                 Least Squares   F-statistic:                 2.273e+06\n",
      "Date:                Wed, 02 Oct 2019   Prob (F-statistic):               0.00\n",
      "Time:                        11:47:07   Log-Likelihood:                -1427.2\n",
      "No. Observations:                1762   AIC:                             2864.\n",
      "Df Residuals:                    1757   BIC:                             2892.\n",
      "Df Model:                           4                                         \n",
      "Covariance Type:            nonrobust                                         \n",
      "==============================================================================\n",
      "                 coef    std err          t      P>|t|      [0.025      0.975]\n",
      "------------------------------------------------------------------------------\n",
      "const          0.0756      0.048      1.564      0.118      -0.019       0.170\n",
      "open          -0.4860      0.016    -29.725      0.000      -0.518      -0.454\n",
      "low            0.7521      0.017     45.191      0.000       0.719       0.785\n",
      "high           0.7333      0.013     55.796      0.000       0.708       0.759\n",
      "volume     -5.382e-09   1.11e-08     -0.484      0.629   -2.72e-08    1.64e-08\n",
      "==============================================================================\n",
      "Omnibus:                      336.097   Durbin-Watson:                   2.189\n",
      "Prob(Omnibus):                  0.000   Jarque-Bera (JB):             6572.808\n",
      "Skew:                           0.315   Prob(JB):                         0.00\n",
      "Kurtosis:                      12.441   Cond. No.                     1.03e+07\n",
      "==============================================================================\n",
      "\n",
      "Warnings:\n",
      "[1] Standard Errors assume that the covariance matrix of the errors is correctly specified.\n",
      "[2] The condition number is large, 1.03e+07. This might indicate that there are\n",
      "strong multicollinearity or other numerical problems.\n"
     ]
    }
   ],
   "source": []
  },
  {
   "cell_type": "code",
   "execution_count": null,
   "metadata": {},
   "outputs": [],
   "source": []
  }
 ],
 "metadata": {
  "kernelspec": {
   "display_name": "Python 3",
   "language": "python",
   "name": "python3"
  },
  "language_info": {
   "codemirror_mode": {
    "name": "ipython",
    "version": 3
   },
   "file_extension": ".py",
   "mimetype": "text/x-python",
   "name": "python",
   "nbconvert_exporter": "python",
   "pygments_lexer": "ipython3",
   "version": "3.6.7"
  }
 },
 "nbformat": 4,
 "nbformat_minor": 2
}
