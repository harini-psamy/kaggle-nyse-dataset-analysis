{
 "cells": [
  {
   "cell_type": "code",
   "execution_count": 1,
   "metadata": {},
   "outputs": [
    {
     "data": {
      "text/plain": [
       "'\\nProblem definitions:\\nOne day ahead prediction: Rolling Linear Regression, ARIMA, Neural Networks, LSTM\\nMomentum/Mean-Reversion Strategies\\nSecurity clustering, portfolio construction/hedging\\nWhich company has biggest chance of being bankrupt? Which one is undervalued (how prices behaved afterwards), what is Return on Investment?\\n\\n'"
      ]
     },
     "execution_count": 1,
     "metadata": {},
     "output_type": "execute_result"
    }
   ],
   "source": [
    "'''\n",
    "Problem definitions:\n",
    "One day ahead prediction: Rolling Linear Regression, ARIMA, Neural Networks, LSTM\n",
    "Momentum/Mean-Reversion Strategies\n",
    "Security clustering, portfolio construction/hedging\n",
    "Which company has biggest chance of being bankrupt? Which one is undervalued (how prices behaved afterwards), what is Return on Investment?\n",
    "\n",
    "'''"
   ]
  },
  {
   "cell_type": "markdown",
   "metadata": {},
   "source": [
    "## 1) applying statistical concepts to dataset"
   ]
  },
  {
   "cell_type": "code",
   "execution_count": 5,
   "metadata": {},
   "outputs": [],
   "source": [
    "# read data\n",
    "import pandas as pd\n",
    "import numpy as np\n",
    "\n",
    "price = pd.read_csv('prices-split-adjusted.csv')\n",
    "price = price.set_index('symbol')"
   ]
  },
  {
   "cell_type": "code",
   "execution_count": 19,
   "metadata": {},
   "outputs": [],
   "source": [
    "# linear regression\n",
    "import statsmodels.api as sm\n",
    "\n",
    "\n",
    "df = price.loc[['CI']]\n",
    "df = df.set_index(keys='date',drop = True)\n",
    "\n",
    "y = price.loc[['CI']]['close']\n",
    "x, y = np.array(x), np.array(y)"
   ]
  },
  {
   "cell_type": "code",
   "execution_count": 20,
   "metadata": {},
   "outputs": [
    {
     "data": {
      "text/html": [
       "<div>\n",
       "<style scoped>\n",
       "    .dataframe tbody tr th:only-of-type {\n",
       "        vertical-align: middle;\n",
       "    }\n",
       "\n",
       "    .dataframe tbody tr th {\n",
       "        vertical-align: top;\n",
       "    }\n",
       "\n",
       "    .dataframe thead th {\n",
       "        text-align: right;\n",
       "    }\n",
       "</style>\n",
       "<table border=\"1\" class=\"dataframe\">\n",
       "  <thead>\n",
       "    <tr style=\"text-align: right;\">\n",
       "      <th></th>\n",
       "      <th>open</th>\n",
       "      <th>close</th>\n",
       "      <th>low</th>\n",
       "      <th>high</th>\n",
       "      <th>volume</th>\n",
       "    </tr>\n",
       "    <tr>\n",
       "      <th>date</th>\n",
       "      <th></th>\n",
       "      <th></th>\n",
       "      <th></th>\n",
       "      <th></th>\n",
       "      <th></th>\n",
       "    </tr>\n",
       "  </thead>\n",
       "  <tbody>\n",
       "    <tr>\n",
       "      <td>1/4/2010</td>\n",
       "      <td>35.270000</td>\n",
       "      <td>36.369999</td>\n",
       "      <td>35.180000</td>\n",
       "      <td>36.410000</td>\n",
       "      <td>3227300</td>\n",
       "    </tr>\n",
       "    <tr>\n",
       "      <td>1/5/2010</td>\n",
       "      <td>36.419998</td>\n",
       "      <td>36.980000</td>\n",
       "      <td>35.990002</td>\n",
       "      <td>37.500000</td>\n",
       "      <td>4564300</td>\n",
       "    </tr>\n",
       "    <tr>\n",
       "      <td>1/6/2010</td>\n",
       "      <td>36.939999</td>\n",
       "      <td>36.900002</td>\n",
       "      <td>36.540001</td>\n",
       "      <td>37.560001</td>\n",
       "      <td>2611900</td>\n",
       "    </tr>\n",
       "    <tr>\n",
       "      <td>1/7/2010</td>\n",
       "      <td>36.169998</td>\n",
       "      <td>38.259998</td>\n",
       "      <td>36.000000</td>\n",
       "      <td>38.400002</td>\n",
       "      <td>4950900</td>\n",
       "    </tr>\n",
       "    <tr>\n",
       "      <td>1/8/2010</td>\n",
       "      <td>38.360001</td>\n",
       "      <td>37.970001</td>\n",
       "      <td>37.509998</td>\n",
       "      <td>38.360001</td>\n",
       "      <td>2717900</td>\n",
       "    </tr>\n",
       "  </tbody>\n",
       "</table>\n",
       "</div>"
      ],
      "text/plain": [
       "               open      close        low       high   volume\n",
       "date                                                         \n",
       "1/4/2010  35.270000  36.369999  35.180000  36.410000  3227300\n",
       "1/5/2010  36.419998  36.980000  35.990002  37.500000  4564300\n",
       "1/6/2010  36.939999  36.900002  36.540001  37.560001  2611900\n",
       "1/7/2010  36.169998  38.259998  36.000000  38.400002  4950900\n",
       "1/8/2010  38.360001  37.970001  37.509998  38.360001  2717900"
      ]
     },
     "execution_count": 20,
     "metadata": {},
     "output_type": "execute_result"
    }
   ],
   "source": [
    "df.head()"
   ]
  },
  {
   "cell_type": "code",
   "execution_count": null,
   "metadata": {},
   "outputs": [],
   "source": []
  }
 ],
 "metadata": {
  "kernelspec": {
   "display_name": "Python 3",
   "language": "python",
   "name": "python3"
  },
  "language_info": {
   "codemirror_mode": {
    "name": "ipython",
    "version": 3
   },
   "file_extension": ".py",
   "mimetype": "text/x-python",
   "name": "python",
   "nbconvert_exporter": "python",
   "pygments_lexer": "ipython3",
   "version": "3.6.7"
  }
 },
 "nbformat": 4,
 "nbformat_minor": 2
}
